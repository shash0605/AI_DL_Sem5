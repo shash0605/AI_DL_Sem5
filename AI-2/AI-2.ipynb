{
  "nbformat": 4,
  "nbformat_minor": 0,
  "metadata": {
    "colab": {
      "provenance": []
    },
    "kernelspec": {
      "name": "python3",
      "display_name": "Python 3"
    },
    "language_info": {
      "name": "python"
    }
  },
  "cells": [
    {
      "cell_type": "markdown",
      "source": [
        "Assignment 02 - Implement constraint satisfaction problem.\n",
        "\n",
        "\n"
      ],
      "metadata": {
        "id": "4Jrbn1k9d5g2"
      }
    },
    {
      "cell_type": "code",
      "execution_count": 1,
      "metadata": {
        "colab": {
          "base_uri": "https://localhost:8080/"
        },
        "id": "wnJgEF12dpDH",
        "outputId": "7a714fb5-5128-4a66-e98a-69fc1714c970"
      },
      "outputs": [
        {
          "output_type": "stream",
          "name": "stdout",
          "text": [
            "Solution: {'A': 'Red', 'B': 'Green', 'C': 'Blue', 'D': 'Red'}\n"
          ]
        }
      ],
      "source": [
        "# Variables (regions)\n",
        "variables = [\"A\", \"B\", \"C\", \"D\"]\n",
        "\n",
        "# Domains (possible colors)\n",
        "domains = {\n",
        "    \"A\": [\"Red\", \"Green\", \"Blue\"],\n",
        "    \"B\": [\"Red\", \"Green\", \"Blue\"],\n",
        "    \"C\": [\"Red\", \"Green\", \"Blue\"],\n",
        "    \"D\": [\"Red\", \"Green\", \"Blue\"]\n",
        "}\n",
        "\n",
        "# Constraints: Neighboring regions cannot have the same color\n",
        "neighbors = {\n",
        "    \"A\": [\"B\", \"C\"],\n",
        "    \"B\": [\"A\", \"C\", \"D\"],\n",
        "    \"C\": [\"A\", \"B\", \"D\"],\n",
        "    \"D\": [\"B\", \"C\"]\n",
        "}\n",
        "\n",
        "# Backtracking Search Algorithm\n",
        "def is_valid(assignment, var, value):\n",
        "    \"\"\"Check if assigning value to var is valid according to constraints\"\"\"\n",
        "    for neighbor in neighbors[var]:\n",
        "        if neighbor in assignment and assignment[neighbor] == value:\n",
        "            return False\n",
        "    return True\n",
        "\n",
        "def backtrack(assignment):\n",
        "    \"\"\"Recursive backtracking algorithm\"\"\"\n",
        "    # If all variables are assigned, return solution\n",
        "    if len(assignment) == len(variables):\n",
        "        return assignment\n",
        "\n",
        "    # Select unassigned variable\n",
        "    unassigned = [v for v in variables if v not in assignment]\n",
        "    var = unassigned[0]\n",
        "\n",
        "    # Try each value in domain\n",
        "    for value in domains[var]:\n",
        "        if is_valid(assignment, var, value):\n",
        "            assignment[var] = value  # assign value\n",
        "            result = backtrack(assignment)  # recursive call\n",
        "            if result:\n",
        "                return result\n",
        "            assignment.pop(var)  # undo (backtrack)\n",
        "    return None\n",
        "\n",
        "# Run CSP Solver\n",
        "\n",
        "solution = backtrack({})\n",
        "print(\"Solution:\", solution)\n"
      ]
    }
  ]
}