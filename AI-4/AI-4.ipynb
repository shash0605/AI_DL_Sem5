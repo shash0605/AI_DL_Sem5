{
  "cells": [
    {
      "cell_type": "markdown",
      "source": [
        "Assignment 04 - To Implement A* Algorithm for an application.\n"
      ],
      "metadata": {
        "id": "ZmkFvmVdc8Yv"
      }
    },
    {
      "cell_type": "code",
      "execution_count": 2,
      "metadata": {
        "colab": {
          "base_uri": "https://localhost:8080/"
        },
        "id": "X9TL4s4nAERE",
        "outputId": "5a569534-0a6f-4b21-84cd-3712c71e475c"
      },
      "outputs": [
        {
          "output_type": "stream",
          "name": "stdout",
          "text": [
            "Path found: [(0, 0), (1, 0), (2, 0), (3, 0), (4, 0), (4, 1), (4, 2), (4, 3), (4, 4)]\n"
          ]
        }
      ],
      "source": [
        "import heapq\n",
        "\n",
        "# Node class to store position, costs and parent\n",
        "class Node:\n",
        "    def __init__(self, parent=None, position=None):\n",
        "        self.parent = parent      # to trace back path\n",
        "        self.position = position  # (x, y) coordinates\n",
        "        self.g = 0  # cost from start node\n",
        "        self.h = 0  # heuristic cost (estimated distance to goal)\n",
        "        self.f = 0  # total cost (g + h)\n",
        "\n",
        "    def __eq__(self, other):\n",
        "        return self.position == other.position  # check if same node\n",
        "\n",
        "    def __lt__(self, other):\n",
        "        return self.f < other.f  # compare based on f for priority queue\n",
        "\n",
        "\n",
        "\n",
        "# A* Search Algorithm\n",
        "\n",
        "def astar(grid, start, end):\n",
        "    open_list = []    # nodes to be evaluated\n",
        "    closed_list = []  # nodes already evaluated\n",
        "\n",
        "    start_node = Node(None, start)\n",
        "    end_node = Node(None, end)\n",
        "\n",
        "    # push start node to open list\n",
        "    heapq.heappush(open_list, start_node)\n",
        "\n",
        "    # loop until we find goal or run out of nodes\n",
        "    while open_list:\n",
        "        # Get node with lowest f value\n",
        "        current_node = heapq.heappop(open_list)\n",
        "        closed_list.append(current_node)\n",
        "\n",
        "        # If reached the goal → reconstruct path\n",
        "        if current_node == end_node:\n",
        "            path = []\n",
        "            while current_node:\n",
        "                path.append(current_node.position)\n",
        "                current_node = current_node.parent\n",
        "            return path[::-1]  # reverse path (from start → goal)\n",
        "\n",
        "        # Generate neighbors (up, down, left, right)\n",
        "        (x, y) = current_node.position\n",
        "        neighbors = [(x-1, y), (x+1, y), (x, y-1), (x, y+1)]\n",
        "\n",
        "        for next_pos in neighbors:\n",
        "            # Check within grid bounds\n",
        "            if (next_pos[0] < 0 or next_pos[0] >= len(grid) or\n",
        "                next_pos[1] < 0 or next_pos[1] >= len(grid[0])):\n",
        "                continue\n",
        "\n",
        "            # Check if walkable (0 = free, 1 = obstacle)\n",
        "            if grid[next_pos[0]][next_pos[1]] != 0:\n",
        "                continue\n",
        "\n",
        "            # Create new neighbor node\n",
        "            neighbor = Node(current_node, next_pos)\n",
        "\n",
        "            # Skip if already evaluated\n",
        "            if neighbor in closed_list:\n",
        "                continue\n",
        "\n",
        "            # Calculate g, h, f\n",
        "            neighbor.g = current_node.g + 1  # cost from start\n",
        "            neighbor.h = ((neighbor.position[0] - end_node.position[0]) ** 2) + \\\n",
        "                         ((neighbor.position[1] - end_node.position[1]) ** 2)  # heuristic: squared distance\n",
        "            neighbor.f = neighbor.g + neighbor.h\n",
        "\n",
        "            # If neighbor is not better, skip\n",
        "            if add_to_open(open_list, neighbor):\n",
        "                heapq.heappush(open_list, neighbor)\n",
        "\n",
        "    return None  # no path found\n",
        "\n",
        "\n",
        "\n",
        "# Helper: check if neighbor should be added to open list\n",
        "\n",
        "def add_to_open(open_list, neighbor):\n",
        "    for node in open_list:\n",
        "        # If same node exists and has lower g cost, skip it\n",
        "        if neighbor == node and neighbor.g >= node.g:\n",
        "            return False\n",
        "    return True\n",
        "\n",
        "\n",
        "# Example Grid (0 = free, 1 = obstacle)\n",
        "grid = [\n",
        "    [0, 1, 0, 0, 0],\n",
        "    [0, 1, 0, 1, 0],\n",
        "    [0, 0, 0, 1, 0],\n",
        "    [0, 1, 1, 1, 0],\n",
        "    [0, 0, 0, 0, 0]\n",
        "]\n",
        "\n",
        "start = (0, 0)  # Start node\n",
        "end = (4, 4)    # Goal node\n",
        "\n",
        "# Run A* algorithm\n",
        "path = astar(grid, start, end)\n",
        "print(\"Path found:\", path)\n"
      ]
    }
  ],
  "metadata": {
    "colab": {
      "provenance": []
    },
    "kernelspec": {
      "display_name": "Python 3",
      "name": "python3"
    },
    "language_info": {
      "name": "python"
    }
  },
  "nbformat": 4,
  "nbformat_minor": 0
}