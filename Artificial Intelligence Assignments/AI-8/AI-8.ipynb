{
  "nbformat": 4,
  "nbformat_minor": 0,
  "metadata": {
    "colab": {
      "provenance": []
    },
    "kernelspec": {
      "name": "python3",
      "display_name": "Python 3"
    },
    "language_info": {
      "name": "python"
    }
  },
  "cells": [
    {
      "cell_type": "markdown",
      "source": [
        "Assignment 08 - Implement backward chaining algorithm\n"
      ],
      "metadata": {
        "id": "edQwbT8Gz4jr"
      }
    },
    {
      "cell_type": "code",
      "source": [
        "# Backward Chaining Algorithm in Python\n",
        "\n",
        "# Knowledge Base (Rules + Facts)\n",
        "rules = {\n",
        "    \"cold\": [[\"fever\", \"cough\"]],\n",
        "    \"flu\": [[\"cold\", \"body_pain\"]],\n",
        "    \"covid\": [[\"fever\", \"cough\", \"loss_of_taste\"]],\n",
        "    \"allergy\": [[\"sneezing\", \"runny_nose\"]],\n",
        "}\n",
        "\n",
        "facts = {\"fever\", \"cough\", \"body_pain\"}   # Known facts\n",
        "\n",
        "def backward_chaining(goal, visited=None):\n",
        "    if visited is None:\n",
        "        visited = set()\n",
        "\n",
        "    # Avoid infinite recursion\n",
        "    if goal in visited:\n",
        "        return False\n",
        "    visited.add(goal)\n",
        "\n",
        "    # Step 1: If goal is already a fact → success\n",
        "    if goal in facts:\n",
        "        return True\n",
        "\n",
        "    # Step 2: Check rules that conclude the goal\n",
        "    if goal in rules:\n",
        "        for conditions in rules[goal]:\n",
        "            # Check if ALL conditions are true\n",
        "            if all(backward_chaining(cond, visited) for cond in conditions):\n",
        "                return True\n",
        "\n",
        "    # Step 3: Goal not provable\n",
        "    return False\n",
        "\n",
        "\n",
        "# Example Runs\n",
        "goals = [\"flu\", \"covid\", \"allergy\", \"cold\"]\n",
        "\n",
        "for g in goals:\n",
        "    result = backward_chaining(g)\n",
        "    print(f\"Can we prove '{g}'? → {result}\")\n"
      ],
      "metadata": {
        "colab": {
          "base_uri": "https://localhost:8080/"
        },
        "id": "_oED_KHGz3JN",
        "outputId": "b3915dd4-acd7-49a4-a190-b27f6f20d483"
      },
      "execution_count": 1,
      "outputs": [
        {
          "output_type": "stream",
          "name": "stdout",
          "text": [
            "Can we prove 'flu'? → True\n",
            "Can we prove 'covid'? → False\n",
            "Can we prove 'allergy'? → False\n",
            "Can we prove 'cold'? → True\n"
          ]
        }
      ]
    }
  ]
}